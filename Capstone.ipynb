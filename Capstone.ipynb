{
 "cells": [
  {
   "cell_type": "code",
   "execution_count": 1,
   "id": "63055560",
   "metadata": {},
   "outputs": [],
   "source": [
    "import numpy as np # linear algebra\n",
    "import pandas as pds # data processing, CSV file I/O (e.g. pd.read_csv)\n",
    "import datetime\n",
    "import random\n",
    "import matplotlib.pyplot as plt\n",
    "import seaborn as sns\n",
    "from scipy import stats\n",
    "from bokeh.plotting import figure, show, output_notebook\n",
    "from bokeh.models import ColumnDataSource\n",
    "import sklearn\n",
    "from sklearn.linear_model import LinearRegression\n",
    "import os\n",
    "import ipywidgets as widgets\n",
    "import warnings\n",
    "warnings.simplefilter(action='ignore', category=FutureWarning)\n"
   ]
  },
  {
   "cell_type": "markdown",
   "id": "81a2c80b",
   "metadata": {},
   "source": [
    "# Dataset Overview"
   ]
  },
  {
   "cell_type": "code",
   "execution_count": 14,
   "id": "9fd7f8eb",
   "metadata": {},
   "outputs": [
    {
     "data": {
      "text/html": [
       "<div>\n",
       "<style scoped>\n",
       "    .dataframe tbody tr th:only-of-type {\n",
       "        vertical-align: middle;\n",
       "    }\n",
       "\n",
       "    .dataframe tbody tr th {\n",
       "        vertical-align: top;\n",
       "    }\n",
       "\n",
       "    .dataframe thead th {\n",
       "        text-align: right;\n",
       "    }\n",
       "</style>\n",
       "<table border=\"1\" class=\"dataframe\">\n",
       "  <thead>\n",
       "    <tr style=\"text-align: right;\">\n",
       "      <th></th>\n",
       "      <th>A1</th>\n",
       "      <th>A2</th>\n",
       "      <th>A3</th>\n",
       "      <th>R1</th>\n",
       "      <th>R2</th>\n",
       "      <th>R3</th>\n",
       "      <th>M1</th>\n",
       "      <th>M2</th>\n",
       "      <th>M3</th>\n",
       "      <th>P1</th>\n",
       "      <th>P2</th>\n",
       "      <th>P3</th>\n",
       "      <th>D1</th>\n",
       "    </tr>\n",
       "  </thead>\n",
       "  <tbody>\n",
       "    <tr>\n",
       "      <th>count</th>\n",
       "      <td>1361.000000</td>\n",
       "      <td>1361.000000</td>\n",
       "      <td>1361.000000</td>\n",
       "      <td>1361.000000</td>\n",
       "      <td>1361.000000</td>\n",
       "      <td>1361.000000</td>\n",
       "      <td>1361.000000</td>\n",
       "      <td>1361.000000</td>\n",
       "      <td>1361.000000</td>\n",
       "      <td>1361.000000</td>\n",
       "      <td>1361.000000</td>\n",
       "      <td>1361.000000</td>\n",
       "      <td>1361.000000</td>\n",
       "    </tr>\n",
       "    <tr>\n",
       "      <th>mean</th>\n",
       "      <td>2.285680</td>\n",
       "      <td>2.234511</td>\n",
       "      <td>2.396873</td>\n",
       "      <td>2.225170</td>\n",
       "      <td>2.178511</td>\n",
       "      <td>2.329126</td>\n",
       "      <td>2.382822</td>\n",
       "      <td>2.320970</td>\n",
       "      <td>2.508877</td>\n",
       "      <td>2.519840</td>\n",
       "      <td>2.472096</td>\n",
       "      <td>2.609244</td>\n",
       "      <td>2.404699</td>\n",
       "    </tr>\n",
       "    <tr>\n",
       "      <th>std</th>\n",
       "      <td>0.859028</td>\n",
       "      <td>0.843815</td>\n",
       "      <td>0.883311</td>\n",
       "      <td>0.850143</td>\n",
       "      <td>0.835549</td>\n",
       "      <td>0.876739</td>\n",
       "      <td>0.882107</td>\n",
       "      <td>0.858521</td>\n",
       "      <td>0.908861</td>\n",
       "      <td>0.911055</td>\n",
       "      <td>0.894472</td>\n",
       "      <td>0.925587</td>\n",
       "      <td>0.998646</td>\n",
       "    </tr>\n",
       "    <tr>\n",
       "      <th>min</th>\n",
       "      <td>0.949000</td>\n",
       "      <td>0.926000</td>\n",
       "      <td>1.039000</td>\n",
       "      <td>0.907000</td>\n",
       "      <td>0.885000</td>\n",
       "      <td>0.974000</td>\n",
       "      <td>1.008000</td>\n",
       "      <td>0.979000</td>\n",
       "      <td>1.112000</td>\n",
       "      <td>1.100000</td>\n",
       "      <td>1.074000</td>\n",
       "      <td>1.191000</td>\n",
       "      <td>0.953000</td>\n",
       "    </tr>\n",
       "    <tr>\n",
       "      <th>25%</th>\n",
       "      <td>1.461000</td>\n",
       "      <td>1.433000</td>\n",
       "      <td>1.550000</td>\n",
       "      <td>1.421000</td>\n",
       "      <td>1.393000</td>\n",
       "      <td>1.489000</td>\n",
       "      <td>1.517000</td>\n",
       "      <td>1.482000</td>\n",
       "      <td>1.616000</td>\n",
       "      <td>1.607000</td>\n",
       "      <td>1.573000</td>\n",
       "      <td>1.695000</td>\n",
       "      <td>1.418000</td>\n",
       "    </tr>\n",
       "    <tr>\n",
       "      <th>50%</th>\n",
       "      <td>2.326000</td>\n",
       "      <td>2.251000</td>\n",
       "      <td>2.458000</td>\n",
       "      <td>2.237000</td>\n",
       "      <td>2.175000</td>\n",
       "      <td>2.367000</td>\n",
       "      <td>2.481000</td>\n",
       "      <td>2.404000</td>\n",
       "      <td>2.627000</td>\n",
       "      <td>2.693000</td>\n",
       "      <td>2.640000</td>\n",
       "      <td>2.769000</td>\n",
       "      <td>2.479000</td>\n",
       "    </tr>\n",
       "    <tr>\n",
       "      <th>75%</th>\n",
       "      <td>2.903000</td>\n",
       "      <td>2.825000</td>\n",
       "      <td>3.060000</td>\n",
       "      <td>2.828000</td>\n",
       "      <td>2.765000</td>\n",
       "      <td>2.976000</td>\n",
       "      <td>3.033000</td>\n",
       "      <td>2.930000</td>\n",
       "      <td>3.206000</td>\n",
       "      <td>3.209000</td>\n",
       "      <td>3.127000</td>\n",
       "      <td>3.318000</td>\n",
       "      <td>3.070000</td>\n",
       "    </tr>\n",
       "    <tr>\n",
       "      <th>max</th>\n",
       "      <td>4.165000</td>\n",
       "      <td>4.102000</td>\n",
       "      <td>4.301000</td>\n",
       "      <td>4.114000</td>\n",
       "      <td>4.054000</td>\n",
       "      <td>4.247000</td>\n",
       "      <td>4.229000</td>\n",
       "      <td>4.153000</td>\n",
       "      <td>4.387000</td>\n",
       "      <td>4.344000</td>\n",
       "      <td>4.283000</td>\n",
       "      <td>4.459000</td>\n",
       "      <td>4.764000</td>\n",
       "    </tr>\n",
       "  </tbody>\n",
       "</table>\n",
       "</div>"
      ],
      "text/plain": [
       "                A1           A2           A3           R1           R2  \\\n",
       "count  1361.000000  1361.000000  1361.000000  1361.000000  1361.000000   \n",
       "mean      2.285680     2.234511     2.396873     2.225170     2.178511   \n",
       "std       0.859028     0.843815     0.883311     0.850143     0.835549   \n",
       "min       0.949000     0.926000     1.039000     0.907000     0.885000   \n",
       "25%       1.461000     1.433000     1.550000     1.421000     1.393000   \n",
       "50%       2.326000     2.251000     2.458000     2.237000     2.175000   \n",
       "75%       2.903000     2.825000     3.060000     2.828000     2.765000   \n",
       "max       4.165000     4.102000     4.301000     4.114000     4.054000   \n",
       "\n",
       "                R3           M1           M2           M3           P1  \\\n",
       "count  1361.000000  1361.000000  1361.000000  1361.000000  1361.000000   \n",
       "mean      2.329126     2.382822     2.320970     2.508877     2.519840   \n",
       "std       0.876739     0.882107     0.858521     0.908861     0.911055   \n",
       "min       0.974000     1.008000     0.979000     1.112000     1.100000   \n",
       "25%       1.489000     1.517000     1.482000     1.616000     1.607000   \n",
       "50%       2.367000     2.481000     2.404000     2.627000     2.693000   \n",
       "75%       2.976000     3.033000     2.930000     3.206000     3.209000   \n",
       "max       4.247000     4.229000     4.153000     4.387000     4.344000   \n",
       "\n",
       "                P2           P3           D1  \n",
       "count  1361.000000  1361.000000  1361.000000  \n",
       "mean      2.472096     2.609244     2.404699  \n",
       "std       0.894472     0.925587     0.998646  \n",
       "min       1.074000     1.191000     0.953000  \n",
       "25%       1.573000     1.695000     1.418000  \n",
       "50%       2.640000     2.769000     2.479000  \n",
       "75%       3.127000     3.318000     3.070000  \n",
       "max       4.283000     4.459000     4.764000  "
      ]
     },
     "execution_count": 14,
     "metadata": {},
     "output_type": "execute_result"
    }
   ],
   "source": [
    "# Test\n",
    "\n",
    "file =('https://raw.githubusercontent.com/pdjohnson1984/Capstone/master/PET_PRI_GND_DCUS_NUS_W.csv')\n",
    "data = pds.read_csv(file)\n",
    "\n",
    "data.describe()\n",
    "\n",
    "\n",
    "\n"
   ]
  },
  {
   "cell_type": "markdown",
   "id": "86808655",
   "metadata": {},
   "source": [
    "# Diesel Prices From 1995-2021"
   ]
  },
  {
   "cell_type": "code",
   "execution_count": 10,
   "id": "3285d31e",
   "metadata": {},
   "outputs": [
    {
     "data": {
      "image/png": "[encoded data removed]",
      "text/plain": [
       "<Figure size 432x288 with 1 Axes>"
      ]
     },
     "metadata": {
      "needs_background": "light"
     },
     "output_type": "display_data"
    }
   ],
   "source": [
    "title = 'Weekly U.S. No 2 Diesel Retail Prices (Dollars per Gallon) 1995-2021'\n",
    "import datetime\n",
    "import random\n",
    "import matplotlib.pyplot as plt\n",
    "\n",
    "diesel_data = data.drop(columns=['A1',\n",
    "       'A2',\n",
    "       'A3',\n",
    "       'R1',\n",
    "       'R2',\n",
    "       'R3',\n",
    "       'M1',\n",
    "       'M2',\n",
    "       'M3',\n",
    "       'P1',\n",
    "       'P2',\n",
    "       'P3'])\n",
    "diesel_data.rename( columns={'D1':'Diesel'}, inplace=True )\n",
    "diesel_data['Date']= pds.to_datetime(diesel_data['Date'])\n",
    "col1='Diesel'\n",
    "col2='Date'\n",
    "y = diesel_data[col1]\n",
    "x = diesel_data[col2]\n",
    "plt.plot(x,y)\n",
    "plt.gca().set_title(title)\n",
    "plt.show()"
   ]
  },
  {
   "cell_type": "markdown",
   "id": "1a88866a",
   "metadata": {},
   "source": [
    "# Display Gas Prices Per Selected Day"
   ]
  },
  {
   "cell_type": "code",
   "execution_count": 12,
   "id": "c39be1b7",
   "metadata": {
    "scrolled": true
   },
   "outputs": [
    {
     "data": {
      "application/vnd.jupyter.widget-view+json": {
       "model_id": "654d050f42fb4968b34ae33d82b463cd",
       "version_major": 2,
       "version_minor": 0
      },
      "text/plain": [
       "DatePicker(value=datetime.date(2021, 1, 25), description='Pick a Date')"
      ]
     },
     "metadata": {},
     "output_type": "display_data"
    },
    {
     "data": {
      "application/vnd.jupyter.widget-view+json": {
       "model_id": "0d33a4946b1b4cd8a3ab24311049ec86",
       "version_major": 2,
       "version_minor": 0
      },
      "text/plain": [
       "Button(description='Get Data!', style=ButtonStyle())"
      ]
     },
     "metadata": {},
     "output_type": "display_data"
    },
    {
     "data": {
      "application/vnd.jupyter.widget-view+json": {
       "model_id": "03bcf317527342f2bed5d79bf541bc9b",
       "version_major": 2,
       "version_minor": 0
      },
      "text/plain": [
       "Output()"
      ]
     },
     "metadata": {},
     "output_type": "display_data"
    }
   ],
   "source": [
    "w = widgets.DatePicker(\n",
    "    description = 'Pick a Date',\n",
    "    disabled = False,\n",
    "    value = datetime.date(2021,1,25)\n",
    ")\n",
    "output = widgets.Output()\n",
    "display(w)\n",
    "button = widgets.Button(description = \"Get Data!\")\n",
    "display(button, output)\n",
    "\n",
    "\n",
    "\n",
    "def on_button_clicked(b):\n",
    "    with output:\n",
    "        title = f\"Weekly U.S. Retail Gasoline Prices {w.value.strftime('%m/%d/%Y')}\"\n",
    "        filter = data['Date'] != w.value.strftime('%m/%d/%Y')\n",
    "        df_today = data.drop(data[filter].index, inplace=False)\n",
    "        plt.figure(figsize=(6,3))\n",
    "        plt.title(title)\n",
    "        sns.barplot(data=df_today)\n",
    "        plt.show()\n",
    "\n",
    "button.on_click(on_button_clicked)"
   ]
  },
  {
   "cell_type": "markdown",
   "id": "776e47c9",
   "metadata": {},
   "source": [
    "# Linear Regression Model of Prices"
   ]
  },
  {
   "cell_type": "code",
   "execution_count": 5,
   "id": "682fe7ca",
   "metadata": {
    "scrolled": true
   },
   "outputs": [
    {
     "name": "stdout",
     "output_type": "stream",
     "text": [
      "Diesel\n",
      "score = 53.41\n",
      "coef = [0.09010781]\n",
      "intercept = -178.52281241298084\n",
      "SciKit-Learn\n"
     ]
    },
    {
     "data": {
      "image/png": "[encoded data removed]",
      "text/plain": [
       "<Figure size 432x288 with 1 Axes>"
      ]
     },
     "metadata": {
      "needs_background": "light"
     },
     "output_type": "display_data"
    }
   ],
   "source": [
    "import sklearn\n",
    "from sklearn.linear_model import LinearRegression\n",
    "print('Diesel')\n",
    "diesel_data['Year'] = 0\n",
    "diesel_data['Year'] = diesel_data['Date'].dt.strftime('%Y').astype(int)\n",
    "diesel_data.drop(columns=['Date'])\n",
    "diesel_year = diesel_data[[\"Year\", \"Diesel\"]].groupby(['Year'],as_index=False).mean()\n",
    "x = diesel_year[['Year']].values\n",
    "y = diesel_year['Diesel'].values\n",
    "regr = sklearn.linear_model.LinearRegression()\n",
    "model = regr.fit(x,y) # SciKit-Learn\n",
    "score = regr.score(x, y)\n",
    "score = round(score*100,2)\n",
    "title = f\"Diesel Linear Regression Score = {score}\"\n",
    "plt.title(title)\n",
    "print('score = {}'.format(score))\n",
    "coef = regr.coef_\n",
    "print('coef = {}'.format(coef)) # 1.0\n",
    "intercept = regr.intercept_\n",
    "print('intercept = {}'.format(intercept)) # 3.0000...\n",
    "y_pred = model.predict(x)\n",
    "print('SciKit-Learn')\n",
    "plt.scatter(x, y, color='gray') # sklearn\n",
    "plt.plot(x, y_pred, color='orange') # model\n",
    "# plt.ylim(0) # start at zero\n",
    "plt.legend(['Diesel Prices (1995-2021)','Model Prediction using Linear Regression'])\n",
    "plt.show()"
   ]
  },
  {
   "cell_type": "markdown",
   "id": "1f602632",
   "metadata": {},
   "source": [
    "# Select a Year to Predict Future Price of Diesel"
   ]
  },
  {
   "cell_type": "code",
   "execution_count": 6,
   "id": "96a0191a",
   "metadata": {},
   "outputs": [
    {
     "data": {
      "application/vnd.jupyter.widget-view+json": {
       "model_id": "10bc496ecf164710837263451f2850c4",
       "version_major": 2,
       "version_minor": 0
      },
      "text/plain": [
       "IntSlider(value=2000, description='Year:', max=2100, min=2000)"
      ]
     },
     "metadata": {},
     "output_type": "display_data"
    },
    {
     "data": {
      "application/vnd.jupyter.widget-view+json": {
       "model_id": "db8c6579f3a742158bed8e9cd37ab7b6",
       "version_major": 2,
       "version_minor": 0
      },
      "text/plain": [
       "Button(description='Predict Data!', style=ButtonStyle())"
      ]
     },
     "metadata": {},
     "output_type": "display_data"
    },
    {
     "name": "stdout",
     "output_type": "stream",
     "text": [
      "2011: $2.6839940753825147 USD\n",
      "2022: $3.675179988546091 USD\n",
      "2031: $4.486150281134485 USD\n",
      "2052: $6.378414297174089 USD\n",
      "2047: $5.9278752457360895 USD\n"
     ]
    }
   ],
   "source": [
    "diesel_info = diesel_data[[\"Year\", \"Diesel\"]].groupby(['Year'],as_index=False).mean()\n",
    "X = diesel_info['Year']\n",
    "y = diesel_info['Diesel']\n",
    "slope, intercept, r, p, std_err = stats.linregress(X, y) # scipy\n",
    "\n",
    "year = widgets.IntSlider(\n",
    "    value=7,\n",
    "    min=2000,\n",
    "    max=2100,\n",
    "    step=1,\n",
    "    description='Year:',\n",
    "    disabled=False,\n",
    "    continuous_update=True,\n",
    "    orientation='horizontal',\n",
    "    readout=True,\n",
    "    readout_format='d'\n",
    ")\n",
    "\n",
    "display(year)\n",
    "button_predict = widgets.Button(description = \"Predict Data!\")\n",
    "display(button_predict)\n",
    "\n",
    "warnings.simplefilter(action='ignore', category=FutureWarning)\n",
    "\n",
    "def on_buttonpredict_clicked(b):\n",
    "    print(\"{}: ${} USD\".format(year.value, modelPrediction(year.value)))\n",
    "\n",
    "def modelPrediction(x):\n",
    "    return slope * x + intercept\n",
    "\n",
    "button_predict.on_click(on_buttonpredict_clicked)"
   ]
  },
  {
   "cell_type": "code",
   "execution_count": null,
   "id": "c96144c8",
   "metadata": {},
   "outputs": [],
   "source": []
  }
 ],
 "metadata": {
  "kernelspec": {
   "display_name": "Python 3 (ipykernel)",
   "language": "python",
   "name": "python3"
  },
  "language_info": {
   "codemirror_mode": {
    "name": "ipython",
    "version": 3
   },
   "file_extension": ".py",
   "mimetype": "text/x-python",
   "name": "python",
   "nbconvert_exporter": "python",
   "pygments_lexer": "ipython3",
   "version": "3.9.12"
  }
 },
 "nbformat": 4,
 "nbformat_minor": 5
}
